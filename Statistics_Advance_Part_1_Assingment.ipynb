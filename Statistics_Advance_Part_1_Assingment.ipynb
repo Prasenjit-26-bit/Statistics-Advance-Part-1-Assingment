{
  "nbformat": 4,
  "nbformat_minor": 0,
  "metadata": {
    "colab": {
      "provenance": []
    },
    "kernelspec": {
      "name": "python3",
      "display_name": "Python 3"
    },
    "language_info": {
      "name": "python"
    }
  },
  "cells": [
    {
      "cell_type": "markdown",
      "source": [
        "#Assignment Questions"
      ],
      "metadata": {
        "id": "8dz6GCRFJeOk"
      }
    },
    {
      "cell_type": "markdown",
      "source": [
        "1. What is a random variable in probability theory?\n",
        "- In probability theory, a random variable is a function that maps the outcomes of a random experiment to real numbers, allowing us to quantify and analyze the outcomes using probability distributions."
      ],
      "metadata": {
        "id": "vtSvDIR6Jjg6"
      }
    },
    {
      "cell_type": "markdown",
      "source": [
        "2. What are the types of random variables?\n",
        "- Random variables are classified as either discrete (taking on a countable number of values) or continuous (taking on an infinite number of values within a range)."
      ],
      "metadata": {
        "id": "c1HjtcPLJ4fZ"
      }
    },
    {
      "cell_type": "markdown",
      "source": [
        "3. What is the difference between discrete and continuous distributions?\n",
        "- discrete distributions deal with countable, distinct values (like the number of heads in coin flips), while continuous distributions deal with values within a range (like height or temperature)."
      ],
      "metadata": {
        "id": "4fUbTekuKCeb"
      }
    },
    {
      "cell_type": "markdown",
      "source": [
        "4. What are probability distribution functions (PDF)?\n",
        "- Probability distribution is a function that is used to give the probability of all the possible values that a random variable can take."
      ],
      "metadata": {
        "id": "eJjR5afoKLMg"
      }
    },
    {
      "cell_type": "markdown",
      "source": [
        "5.  How do cumulative distribution functions (CDF) differ from probability distribution functions (PDF)?\n",
        "- The Cumulative Distribution Function (CDF) provides the probability that a random variable is less than or equal to a specific value, while the Probability Distribution Function (PDF) describes the probability density at specific points, or the likelihood of a variable falling within a range"
      ],
      "metadata": {
        "id": "CeGtbDy8KVKW"
      }
    },
    {
      "cell_type": "markdown",
      "source": [
        "6. What is a discrete uniform distribution?\n",
        "- Intuitively, a discrete uniform distribution is \"a known, finite number of outcomes all equally likely to happen.\" A simple example of the discrete uniform distribution comes from throwing a fair six-sided die."
      ],
      "metadata": {
        "id": "7MGOiQxyKoQF"
      }
    },
    {
      "cell_type": "markdown",
      "source": [
        "7. What are the key properties of a Bernoulli distribution?\n",
        "- A Bernoulli distribution models a random variable with only two possible outcomes, typically labeled \"success\" (1) or \"failure\" (0), with a fixed probability of success 'p' and failure '1-p'."
      ],
      "metadata": {
        "id": "ty0zd-BSLQBK"
      }
    },
    {
      "cell_type": "markdown",
      "source": [
        "8. What is the binomial distribution, and how is it used in probability?\n",
        "- The binomial distribution is a discrete probability distribution that describes the probability of a certain number of successes in a fixed number of independent trials, each with the same probability of success. It's used in probability to model situations where there are only two possible outcomes (success or failure) for each trial, like coin flips or quality control tests."
      ],
      "metadata": {
        "id": "8MGd9WwzLn7p"
      }
    },
    {
      "cell_type": "markdown",
      "source": [
        "9. What is the Poisson distribution and where is it applied?\n",
        "- The Poisson distribution is a discrete probability distribution that models the probability of a certain number of events occurring within a fixed interval of time or space, given a known average rate of events. It's applied in various fields to predict and analyze events that occur randomly but at a predictable average rate."
      ],
      "metadata": {
        "id": "SfF0HN6aL4Nk"
      }
    },
    {
      "cell_type": "markdown",
      "source": [
        "10. What is a continuous uniform distribution?\n",
        "- The uniform distribution (continuous) is one of the simplest probability distributions in statistics. It is a continuous distribution, this means that it takes values within a specified range, e.g. between 0 and 1."
      ],
      "metadata": {
        "id": "ZpW3O5k9MC9k"
      }
    },
    {
      "cell_type": "markdown",
      "source": [
        "11. What are the characteristics of a normal distribution?\n",
        "- A normal distribution, also known as a bell curve, is characterized by being symmetrical, unimodal (having one peak), and having the mean, median, and mode all equal, with data points clustering around the mean and tapering off as they move further away."
      ],
      "metadata": {
        "id": "MC45Xy5rMrq6"
      }
    },
    {
      "cell_type": "markdown",
      "source": [
        "12. What is the standard normal distribution, and why is it important?\n",
        "- A standard normal distribution table is utilized to determine the region under the bend (f(z)) to discover the probability of a specified range of distribution."
      ],
      "metadata": {
        "id": "MGy-9R7mMzsj"
      }
    },
    {
      "cell_type": "markdown",
      "source": [
        "13. What is the Central Limit Theorem (CLT), and why is it critical in statistics?\n",
        "- Central Limit Theorem in Statistics | Formula, Derivation ...The Central Limit Theorem (CLT) is a fundamental concept in statistics stating that the distribution of sample means will approach a normal distribution, regardless of the original population distribution, as the sample size increases."
      ],
      "metadata": {
        "id": "bEmHgdg7M7S7"
      }
    },
    {
      "cell_type": "markdown",
      "source": [
        "14. How does the Central Limit Theorem relate to the normal distribution?\n",
        "- The Central Limit Theorem (CLT) establishes that the distribution of sample means approaches a normal distribution as the sample size increases, regardless of the original population's distribution, making the normal distribution a key concept in statistical inference."
      ],
      "metadata": {
        "id": "JsLCcBN1NE71"
      }
    },
    {
      "cell_type": "markdown",
      "source": [
        "15. What is the application of Z statistics in hypothesis testing?\n",
        "- In hypothesis testing, Z-statistics (or Z-tests) are used to determine if a sample's mean significantly differs from a population mean or if two sample means differ significantly when the population standard deviation is known, and the sample size is large."
      ],
      "metadata": {
        "id": "0-Dt47p0NOeh"
      }
    },
    {
      "cell_type": "markdown",
      "source": [
        "16. How do you calculate a Z-score, and what does it represent?\n",
        "- Z-Score: Definition, Formula, Calculation & InterpretationA z-score, calculated as (x - μ) / σ, represents how many standard deviations a data point (x) is away from the mean (μ) of a distribution, with σ being the standard deviation."
      ],
      "metadata": {
        "id": "bw9vF1cONZIT"
      }
    },
    {
      "cell_type": "markdown",
      "source": [
        "17. What are point estimates and interval estimates in statistics?\n",
        "- In statistics, a point estimate is a single value used to estimate an unknown population parameter, while an interval estimate provides a range of values within which the parameter is likely to fall."
      ],
      "metadata": {
        "id": "GTumzHU6Nhgv"
      }
    },
    {
      "cell_type": "markdown",
      "source": [
        "18. What is the significance of confidence intervals in statistical analysis?\n",
        "- Confidence intervals in statistical analysis are crucial because they provide a range of plausible values for an unknown population parameter, allowing researchers to quantify the uncertainty associated with their estimates and make more informed decisions."
      ],
      "metadata": {
        "id": "l4jjBc2ZNpmM"
      }
    },
    {
      "cell_type": "markdown",
      "source": [
        "19. What is the relationship between a Z-score and a confidence interval?\n",
        "- Z-Score in Statistics | Engineering MathematicsA Z-score determines how many standard deviations a data point is from the mean, while a confidence interval provides a range within which a population parameter is likely to fall, and the Z-score is used to calculate the margin of error for that interval."
      ],
      "metadata": {
        "id": "Ke_DjzZBNxxX"
      }
    },
    {
      "cell_type": "markdown",
      "source": [
        "20.  How are Z-scores used to compare different distributions?\n",
        "- Z-scores standardize data by expressing each value as the number of standard deviations from the mean, allowing for meaningful comparisons across different distributions even when they have different means and standard deviations."
      ],
      "metadata": {
        "id": "fk8P0sRiOTM6"
      }
    },
    {
      "cell_type": "markdown",
      "source": [
        "21. What are the assumptions for applying the Central Limit Theorem?\n",
        "- To apply the Central Limit Theorem (CLT), you need random, independent samples, a sufficiently large sample size (often 30 or more), and a population with a finite variance."
      ],
      "metadata": {
        "id": "d21pGXVuOawb"
      }
    },
    {
      "cell_type": "markdown",
      "source": [
        "22. What is the concept of expected value in a probability distribution?\n",
        "- In a probability distribution, the expected value (also known as the mean or average) is the long-term average outcome of a random variable, calculated by weighting each possible outcome by its probability and summing the results."
      ],
      "metadata": {
        "id": "sJD8oJdSOjbs"
      }
    },
    {
      "cell_type": "markdown",
      "source": [
        "23.  How does a probability distribution relate to the expected outcome of a random variable?\n",
        "- A probability distribution describes the likelihood of different outcomes for a random variable, and the expected outcome is calculated by weighting each possible value by its probability and summing the results."
      ],
      "metadata": {
        "id": "BgUFTBw5OsX1"
      }
    }
  ]
}